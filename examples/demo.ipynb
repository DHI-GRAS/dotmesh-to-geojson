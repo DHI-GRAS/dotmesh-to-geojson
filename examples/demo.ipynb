": [
  {
   "cell_type": "markdown",
   "metadata": {},
   "source": [
    "# Get the convex hull from a .mesh file and convert to GeoJSON"
   ]
  },
  {
   "cell_type": "code",
   "execution_count": 1,
   "metadata": {},
   "outputs": [],
   "source": [
    "%matplotlib inline"
   ]
  },
  {
   "cell_type": "code",
   "execution_count": 2,
   "metadata": {},
   "outputs": [],
   "source": [
    "import matplotlib.pyplot as plt"
   ]
  },
  {
   "cell_type": "code",
   "execution_count": 3,
   "metadata": {},
   "outputs": [],
   "source": [
    "import numpy as np\n",
    "import scipy.spatial\n",
    "import shapely.geometry"
   ]
  },
  {
   "cell_type": "code",
   "execution_count": 4,
   "metadata": {},
   "outputs": [],
   "source": [
    "plt.style.use(\"ggplot\")"
   ]
  },
  {
   "cell_type": "code",
   "execution_count": 5,
   "metadata": {},
   "outputs": [],
   "source": [
    "path = \"ComplexExampleMesh.mesh\""
   ]
  },
  {
   "cell_type": "markdown",
   "metadata": {},
   "source": [
    "## Get number of data lines"
   ]
  },
  {
   "cell_type": "code",
   "execution_count": 6,
   "metadata": {},
   "outputs": [],
   "source": [
    "with open(path) as f:\n",
    "    header = f.readline()\n",
    "nrows = int(header.split()[2])"
   ]
  },
  {
   "cell_type": "markdown",
   "metadata": {},
   "source": [
    "## Parse CSV and compute convex hull"
   ]
  },
  {
   "cell_type": "code",
   "execution_count": 7,
   "metadata": {},
   "outputs": [],
   "source": [
    "points = np.genfromtxt(path, dtype=float, skip_header=1, usecols=[1, 2], max_rows=nrows)"
   ]
  },
  {
   "cell_type": "code",
   "execution_count": 8,
   "metadata": {},
   "outputs": [],
   "source": [
    "hull = scipy.spatial.ConvexHull(points)"
   ]
  },
  {
   "cell_type": "code",
   "execution_count": 9,
   "metadata": {},
   "outputs": [
    {
     "data": {
      "image/png": "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\n",
      "text/plain": [
       "<Figure size 432x288 with 1 Axes>"
      ]
     },
     "metadata": {},
     "output_type": "display_data"
    }
   ],
   "source": [
    "plt.plot(points[:, 0], points[:, 1], 'o')\n",
    "for simplex in hull.simplices:\n",
    "    plt.plot(points[simplex, 0], points[simplex, 1], 'k-')"
   ]
  },
  {
   "cell_type": "markdown",
   "metadata": {},
   "source": [
    "## Convert to Shapely geometry and then to GeoJSON"
   ]
  },
  {
   "cell_type": "code",
   "execution_count": 10,
   "metadata": {},
   "outputs": [],
   "source": [
    "geom = shapely.geometry.Polygon(points[hull.vertices])"
   ]
  },
  {
   "cell_type": "code",
   "execution_count": 11,
   "metadata": {},
   "outputs": [
    {
     "data": {
      "text/plain": [
       "True"
      ]
     },
     "execution_count": 11,
     "metadata": {},
     "output_type": "execute_result"
    }
   ],
   "source": [
    "geom.is_valid"
   ]
  },
  {
   "cell_type": "code",
   "execution_count": 12,
   "metadata": {},
   "outputs": [
    {
     "data": {
      "image/svg+xml": [
       "<svg xmlns=\"http://www.w3.org/2000/svg\" xmlns:xlink=\"http://www.w3.org/1999/xlink\" width=\"100.0\" height=\"100.0\" viewBox=\"9.493692986056 55.298382817356 1.6627190123879991 1.0586694362879996\" preserveAspectRatio=\"xMinYMin meet\"><g transform=\"matrix(1,0,0,-1,0,111.655435071)\"><path fill-rule=\"evenodd\" fill=\"#66cc99\" stroke=\"#555555\" stroke-width=\"0.03325438024775998\" opacity=\"0.6\" d=\"M 11.0948298128,55.6753986858 L 10.7940723591,56.2462558318 L 10.4546683663,56.2949581314 L 10.4313009153,56.295470068 L 10.4277190954,56.2952200889 L 10.3906898484,56.2922680503 L 10.3838373116,56.2892808109 L 10.3806173497,56.2878153521 L 9.5574468908,55.710631561 L 9.5564396797,55.7088381724 L 9.55555483,55.7070180551 L 9.5552751717,55.7048492992 L 9.5556373282,55.7012631915 L 9.5562467073,55.6990617921 L 9.8612806027,55.5152195408 L 9.8753492479,55.5112937448 L 10.7904294978,55.359965003 L 10.8049690973,55.373685877 L 10.9067462938,55.4697319952 L 10.9503650923,55.5108946173 L 11.0812214877,55.6343824836 L 11.094228905,55.665321924 L 11.0948298128,55.6753986858 z\" /></g></svg>"
      ],
      "text/plain": [
       "<shapely.geometry.polygon.Polygon at 0x7fa44932a550>"
      ]
     },
     "execution_count": 12,
     "metadata": {},
     "output_type": "execute_result"
    }
   ],
   "source": [
    "geom"
   ]
  },
  {
   "cell_type": "code",
   "execution_count": 13,
   "metadata": {},
   "outputs": [
    {
     "data": {
      "text/plain": [
       "{'type': 'Polygon',\n",
       " 'coordinates': (((11.0948298128, 55.6753986858),\n",
       "   (10.7940723591, 56.2462558318),\n",
       "   (10.4546683663, 56.2949581314),\n",
       "   (10.4313009153, 56.295470068),\n",
       "   (10.4277190954, 56.2952200889),\n",
       "   (10.3906898484, 56.2922680503),\n",
       "   (10.3838373116, 56.2892808109),\n",
       "   (10.3806173497, 56.2878153521),\n",
       "   (9.5574468908, 55.710631561),\n",
       "   (9.5564396797, 55.7088381724),\n",
       "   (9.55555483, 55.7070180551),\n",
       "   (9.5552751717, 55.7048492992),\n",
       "   (9.5556373282, 55.7012631915),\n",
       "   (9.5562467073, 55.6990617921),\n",
       "   (9.8612806027, 55.5152195408),\n",
       "   (9.8753492479, 55.5112937448),\n",
       "   (10.7904294978, 55.359965003),\n",
       "   (10.8049690973, 55.373685877),\n",
       "   (10.9067462938, 55.4697319952),\n",
       "   (10.9503650923, 55.5108946173),\n",
       "   (11.0812214877, 55.6343824836),\n",
       "   (11.094228905, 55.665321924),\n",
       "   (11.0948298128, 55.6753986858)),)}"
      ]
     },
     "execution_count": 13,
     "metadata": {},
     "output_type": "execute_result"
    }
   ],
   "source": [
    "shapely.geometry.mapping(geom)"
   ]
  },
  {
   "cell_type": "markdown",
   "metadata": {},
   "source": [
    "## Test the Lambda function"
   ]
  },
  {
   "cell_type": "code",
   "execution_count": 14,
   "metadata": {},
   "outputs": [
    {
     "data": {
      "text/plain": [
       "{'features': [{'geometry': {'coordinates': [[[11.0948298128, 55.6753986858],\n",
       "      [10.7940723591, 56.2462558318],\n",
       "      [10.4546683663, 56.2949581314],\n",
       "      [10.4313009153, 56.295470068],\n",
       "      [10.4277190954, 56.2952200889],\n",
       "      [10.3906898484, 56.2922680503],\n",
       "      [10.3838373116, 56.2892808109],\n",
       "      [10.3806173497, 56.2878153521],\n",
       "      [9.5574468908, 55.710631561],\n",
       "      [9.5564396797, 55.7088381724],\n",
       "      [9.55555483, 55.7070180551],\n",
       "      [9.5552751717, 55.7048492992],\n",
       "      [9.5556373282, 55.7012631915],\n",
       "      [9.5562467073, 55.6990617921],\n",
       "      [9.8612806027, 55.5152195408],\n",
       "      [9.8753492479, 55.5112937448],\n",
       "      [10.7904294978, 55.359965003],\n",
       "      [10.8049690973, 55.373685877],\n",
       "      [10.9067462938, 55.4697319952],\n",
       "      [10.9503650923, 55.5108946173],\n",
       "      [11.0812214877, 55.6343824836],\n",
       "      [11.094228905, 55.665321924],\n",
       "      [11.0948298128, 55.6753986858]]],\n",
       "    'type': 'Polygon'},\n",
       "   'type': 'Feature'}],\n",
       " 'type': 'FeatureCollection'}"
      ]
     },
     "execution_count": 14,
     "metadata": {},
     "output_type": "execute_result"
    }
   ],
   "source": [
    "import requests\n",
    "\n",
    "with open(path) as f:\n",
    "    data = f.read()\n",
    "    \n",
    "r = requests.post(\"https://ohvm9vo756.execute-api.eu-central-1.amazonaws.com/development/convert\", data=data)\n",
    "r.json()"
   ]
  },
  {
   "cell_type": "markdown",
   "metadata": {},
   "source": [
    "## Benchmark Scipy hull against Shapely MultiPoint hull"
   ]
  },
  {
   "cell_type": "code",
   "execution_count": 15,
   "metadata": {},
   "outputs": [],
   "source": [
    "def hull_scipy_shapely(points):\n",
    "    hull = scipy.spatial.ConvexHull(points)\n",
    "    return shapely.geometry.Polygon(points[hull.vertices])"
   ]
  },
  {
   "cell_type": "code",
   "execution_count": 16,
   "metadata": {},
   "outputs": [],
   "source": [
    "def hull_shapely(points):\n",
    "    mp = shapely.geometry.MultiPoint(points)\n",
    "    return mp.convex_hull"
   ]
  },
  {
   "cell_type": "code",
   "execution_count": 17,
   "metadata": {},
   "outputs": [
    {
     "name": "stdout",
     "output_type": "stream",
     "text": [
      "3.19 ms ± 53.7 µs per loop (mean ± std. dev. of 7 runs, 100 loops each)\n"
     ]
    }
   ],
   "source": [
    "%%timeit\n",
    "hull_scipy_shapely(points)"
   ]
  },
  {
   "cell_type": "code",
   "execution_count": 18,
   "metadata": {},
   "outputs": [
    {
     "name": "stdout",
     "output_type": "stream",
     "text": [
      "272 ms ± 4.42 ms per loop (mean ± std. dev. of 7 runs, 1 loop each)\n"
     ]
    }
   ],
   "source": [
    "%%timeit\n",
    "hull_shapely(points)"
   ]
  }
 ],
 "metadata": {
  "kernelspec": {
   "display_name": "Python 3.6 (DHI GRAS)",
   "language": "python",
   "name": "py3"
  },
  "language_info": {
   "codemirror_mode": {
    "name": "ipython",
    "version": 3
   },
   "file_extension": ".py",
   "mimetype": "text/x-python",
   "name": "python",
   "nbconvert_exporter": "python",
   "pygments_lexer": "ipython3",
   "version": "3.6.6"
  }
 },
 "nbformat": 4,
 "nbformat_minor": 2
}
